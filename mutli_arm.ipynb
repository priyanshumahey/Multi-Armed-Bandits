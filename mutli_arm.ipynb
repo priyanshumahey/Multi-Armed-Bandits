{
 "cells": [
  {
   "attachments": {},
   "cell_type": "markdown",
   "metadata": {},
   "source": [
    "# Multi Armed Bandit"
   ]
  },
  {
   "cell_type": "code",
   "execution_count": null,
   "metadata": {},
   "outputs": [],
   "source": [
    "import numpy as np\n",
    "import matplotlib as mpl\n",
    "import matplotlib.pyplot as plt\n",
    "import os\n",
    "\n",
    "os.mkdir('./Images')"
   ]
  },
  {
   "attachments": {},
   "cell_type": "markdown",
   "metadata": {},
   "source": [
    "For k-armed bandit problems, each of the k actions has a value for that action. $A_t$ is the action on time step $t$ and $R_t$ is the corresponding reward at that time step. The value of an arbitary action $a$ is denoted as $q(a)$. This is the expected reward given a:\n",
    "\n",
    "$$\n",
    "q(a) = E[R_t | A_t = a]\n",
    "$$"
   ]
  },
  {
   "cell_type": "code",
   "execution_count": null,
   "metadata": {},
   "outputs": [],
   "source": [
    "def one_armed_bandit(data=False, save=False):\n",
    "    if isinstance(data, np.ndarray):\n",
    "            dataset = data\n",
    "    else: \n",
    "        dataset = np.random.randn(100, 1) + np.random.randn(1)\n",
    "    plt.violinplot(dataset)\n",
    "    plt.xlabel(\"Action\")\n",
    "    plt.ylabel(\"Potential Reward Distribution\")\n",
    "    plt.show()\n",
    "    if save== True:\n",
    "        plt.savefig(\"One_Arm.png\")\n",
    "\n",
    "one_armed_bandit()"
   ]
  },
  {
   "cell_type": "code",
   "execution_count": null,
   "metadata": {},
   "outputs": [],
   "source": [
    "def multi_armed_bandit(data =False, save=False, arms=10):\n",
    "    if isinstance(data, np.ndarray):\n",
    "            dataset = data\n",
    "    else: \n",
    "        dataset = np.random.randn(100, arms) + np.random.randn(arms)\n",
    "    plt.violinplot(dataset)\n",
    "    plt.xlabel(\"Action\")\n",
    "    plt.ylabel(\"Potential Reward Distribution\")\n",
    "    plt.show()\n",
    "    if save== True:\n",
    "        plt.savefig(\"Multi_Arms.png\")\n",
    "\n",
    "multi_armed_bandit()"
   ]
  },
  {
   "attachments": {},
   "cell_type": "markdown",
   "metadata": {},
   "source": [
    "For a one armed bandit, we can see how much reward we'd be making over time if we randomly pull the arm:"
   ]
  },
  {
   "cell_type": "code",
   "execution_count": null,
   "metadata": {},
   "outputs": [],
   "source": [
    "base = np.random.randn(100, 1) + np.random.randn(1)\n",
    "\n",
    "one_armed_bandit(data = base)\n",
    "\n",
    "x = []\n",
    "for i in range(100):\n",
    "    x.append(np.random.choice(base.squeeze()))\n",
    "\n",
    "plt.plot(range(100), x)\n",
    "plt.ylabel(\"Reward Output\")\n",
    "plt.xlabel(\"Trial #\")\n",
    "plt.show()"
   ]
  },
  {
   "attachments": {},
   "cell_type": "markdown",
   "metadata": {},
   "source": [
    "Next, we solve the multi-armed bandit problem through the use of the epsilon-greedy action value method for solving the k-armed bandit problem."
   ]
  },
  {
   "cell_type": "code",
   "execution_count": null,
   "metadata": {},
   "outputs": [],
   "source": [
    "class GreedyBandit():\n",
    "    def __init__(self, epsilon, alpha, n_arms, n_steps):\n",
    "        self.epsilon = epsilon\n",
    "        self.alpha = alpha \n",
    "        self.n_arms = n_arms\n",
    "        self.n_steps = n_steps\n",
    "\n",
    "\n",
    "\n",
    "    def greedy_epsilon(self, action_values):\n",
    "        is_greedy = np.random.random() > self.epsilon\n",
    "        if is_greedy:\n",
    "            action = np.argmax(action_values)\n",
    "        else:\n",
    "            action = np.random.choice(len(action_values))\n",
    "        return action\n",
    "\n",
    "    def update_action(self, action_values, action, reward):\n",
    "        q_t = action_values[action] + self.alpha * (reward - action_values[action])\n",
    "        return q_t\n",
    "    \n",
    "    def multi_armed_bandit(self):\n",
    "        all_rewards = np.random.normal(np.random.normal(size=self.n_arms))\n",
    "        q, qs = np.zeros(self.n_arms), np.zeros((self.n_steps, self.n_arms))\n",
    "        rewards = actions = best = np.zeros(self.n_steps)\n",
    "\n",
    "        for step in range(self.n_steps):\n",
    "            action = self.greedy_epsilon(q)\n",
    "            actions[step] = action\n",
    "\n",
    "            reward = all_rewards[action]\n",
    "            rewards[step] = reward\n",
    "\n",
    "            best_action = np.argmax(all_rewards)\n",
    "            best[step] - action == best_action\n",
    "\n",
    "            q[action] = self.update_action(q, action, reward)\n",
    "            qs[step] = q\n",
    "            \n",
    "        results = {'qs': qs, 'actions': actions, 'rewards': rewards,'optimal': best}\n",
    "        \n",
    "        return results\n"
   ]
  },
  {
   "cell_type": "code",
   "execution_count": null,
   "metadata": {},
   "outputs": [],
   "source": [
    "n_arms = 10\n",
    "epsilon = 0.1\n",
    "alpha = 0.01\n",
    "n_steps = 1000\n",
    "\n",
    "\n",
    "result = GreedyBandit(epsilon, alpha, n_arms, n_steps)\n",
    "\n",
    "results = result.multi_armed_bandit()"
   ]
  },
  {
   "attachments": {},
   "cell_type": "markdown",
   "metadata": {},
   "source": [
    "Let's visaulize the results of all this:"
   ]
  },
  {
   "cell_type": "code",
   "execution_count": null,
   "metadata": {},
   "outputs": [],
   "source": [
    "plt.plot(results['rewards'])\n",
    "plt.xlabel('step')\n",
    "plt.ylabel('reward')\n",
    "plt.title(f'Observed Reward ($\\epsilon$={epsilon}, $\\\\alpha$={alpha})')\n",
    "plt.show()"
   ]
  },
  {
   "cell_type": "code",
   "execution_count": null,
   "metadata": {},
   "outputs": [],
   "source": [
    "plt.plot(results['qs'])\n",
    "plt.xlabel('step')\n",
    "plt.ylabel('value')\n",
    "plt.title(f'Action Values ($\\epsilon$={epsilon}, $\\\\alpha$={alpha})')\n",
    "plt.legend(range(n_arms))\n",
    "plt.show()"
   ]
  }
 ],
 "metadata": {
  "kernelspec": {
   "display_name": "base",
   "language": "python",
   "name": "python3"
  },
  "language_info": {
   "codemirror_mode": {
    "name": "ipython",
    "version": 3
   },
   "file_extension": ".py",
   "mimetype": "text/x-python",
   "name": "python",
   "nbconvert_exporter": "python",
   "pygments_lexer": "ipython3",
   "version": "3.8.8"
  },
  "orig_nbformat": 4
 },
 "nbformat": 4,
 "nbformat_minor": 2
}
