{
 "cells": [
  {
   "attachments": {},
   "cell_type": "markdown",
   "metadata": {},
   "source": [
    "# Multi Armed Bandit"
   ]
  },
  {
   "cell_type": "code",
   "execution_count": null,
   "metadata": {},
   "outputs": [],
   "source": [
    "import numpy as np\n",
    "import matplotlib as mpl\n",
    "import matplotlib.pyplot as plt\n",
    "import os\n",
    "\n",
    "os.mkdir('./Images')"
   ]
  },
  {
   "attachments": {},
   "cell_type": "markdown",
   "metadata": {},
   "source": [
    "For k-armed bandit problems, each of the k actions has a value for that action. $A_t$ is the action on time step $t$ and $R_t$ is the corresponding reward at that time step. The value of an arbitary action $a$ is denoted as $q(a)$. This is the expected reward given a:\n",
    "\n",
    "$$\n",
    "q(a) = E[R_t | A_t = a]\n",
    "$$"
   ]
  },
  {
   "cell_type": "code",
   "execution_count": null,
   "metadata": {},
   "outputs": [],
   "source": [
    "def one_armed_bandit(data=False, save=False):\n",
    "    if isinstance(data, np.ndarray):\n",
    "            dataset = data\n",
    "    else: \n",
    "        dataset = np.random.randn(100, 1) + np.random.randn(1)\n",
    "    plt.violinplot(dataset)\n",
    "    plt.xlabel(\"Action\")\n",
    "    plt.ylabel(\"Potential Reward Distribution\")\n",
    "    plt.show()\n",
    "    if save== True:\n",
    "        plt.savefig(\"One_Arm.png\")\n",
    "\n",
    "one_armed_bandit()"
   ]
  },
  {
   "cell_type": "code",
   "execution_count": null,
   "metadata": {},
   "outputs": [],
   "source": [
    "def multi_armed_bandit(data =False, save=False, arms=10):\n",
    "    if isinstance(data, np.ndarray):\n",
    "            dataset = data\n",
    "    else: \n",
    "        dataset = np.random.randn(100, arms) + np.random.randn(arms)\n",
    "    plt.violinplot(dataset)\n",
    "    plt.xlabel(\"Action\")\n",
    "    plt.ylabel(\"Potential Reward Distribution\")\n",
    "    plt.show()\n",
    "    if save== True:\n",
    "        plt.savefig(\"Multi_Arms.png\")\n",
    "\n",
    "multi_armed_bandit()"
   ]
  },
  {
   "attachments": {},
   "cell_type": "markdown",
   "metadata": {},
   "source": [
    "For a one armed bandit, we can see how much reward we'd be making over time if we randomly pull the arm:"
   ]
  },
  {
   "cell_type": "code",
   "execution_count": null,
   "metadata": {},
   "outputs": [],
   "source": [
    "base = np.random.randn(100, 1) + np.random.randn(1)\n",
    "\n",
    "one_armed_bandit(data = base)\n",
    "\n",
    "x = []\n",
    "for i in range(100):\n",
    "    x.append(np.random.choice(base.squeeze()))\n",
    "\n",
    "plt.plot(range(100), x)\n",
    "plt.ylabel(\"Reward Output\")\n",
    "plt.xlabel(\"Trial #\")\n",
    "plt.show()"
   ]
  }
 ],
 "metadata": {
  "kernelspec": {
   "display_name": "base",
   "language": "python",
   "name": "python3"
  },
  "language_info": {
   "codemirror_mode": {
    "name": "ipython",
    "version": 3
   },
   "file_extension": ".py",
   "mimetype": "text/x-python",
   "name": "python",
   "nbconvert_exporter": "python",
   "pygments_lexer": "ipython3",
   "version": "3.8.8"
  },
  "orig_nbformat": 4
 },
 "nbformat": 4,
 "nbformat_minor": 2
}
