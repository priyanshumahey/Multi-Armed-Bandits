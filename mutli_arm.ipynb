{
 "cells": [
  {
   "attachments": {},
   "cell_type": "markdown",
   "metadata": {},
   "source": [
    "# Multi Armed Bandit"
   ]
  },
  {
   "cell_type": "code",
   "execution_count": null,
   "metadata": {},
   "outputs": [],
   "source": [
    "import numpy as np\n",
    "import matplotlib as mpl\n",
    "import matplotlib.pyplot as plt\n",
    "import os\n",
    "\n",
    "os.mkdir('./Images')"
   ]
  },
  {
   "attachments": {},
   "cell_type": "markdown",
   "metadata": {},
   "source": [
    "Simple one armed bandit problem"
   ]
  },
  {
   "cell_type": "code",
   "execution_count": null,
   "metadata": {},
   "outputs": [],
   "source": [
    "def one_armed_bandit(save=False):\n",
    "    dataset=np.random.randn(100, 1) + np.random.randn(1)\n",
    "    plt.violinplot(dataset)\n",
    "    plt.xlabel(\"Action\")\n",
    "    plt.ylabel(\"Potential Reward Distribution\")\n",
    "    plt.show()\n",
    "    if save== True:\n",
    "        plt.savefig(\"One_Arm.png\")\n",
    "\n",
    "one_armed_bandit()"
   ]
  },
  {
   "cell_type": "code",
   "execution_count": null,
   "metadata": {},
   "outputs": [],
   "source": [
    "def multi_armed_bandit(save=False, arms=10):\n",
    "    dataset=np.random.randn(100, arms) + np.random.randn(arms)\n",
    "    plt.violinplot(dataset)\n",
    "    plt.xlabel(\"Action\")\n",
    "    plt.ylabel(\"Potential Reward Distribution\")\n",
    "    plt.show()\n",
    "    if save== True:\n",
    "        plt.savefig(\"Multi_Arms.png\")\n",
    "\n",
    "multi_armed_bandit()"
   ]
  }
 ],
 "metadata": {
  "kernelspec": {
   "display_name": "base",
   "language": "python",
   "name": "python3"
  },
  "language_info": {
   "codemirror_mode": {
    "name": "ipython",
    "version": 3
   },
   "file_extension": ".py",
   "mimetype": "text/x-python",
   "name": "python",
   "nbconvert_exporter": "python",
   "pygments_lexer": "ipython3",
   "version": "3.8.8"
  },
  "orig_nbformat": 4
 },
 "nbformat": 4,
 "nbformat_minor": 2
}
